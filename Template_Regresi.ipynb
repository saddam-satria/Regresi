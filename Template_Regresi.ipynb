{
  "nbformat": 4,
  "nbformat_minor": 0,
  "metadata": {
    "colab": {
      "name": "Template Regresi ",
      "provenance": [],
      "collapsed_sections": [],
      "authorship_tag": "ABX9TyNY9RyICzLTGcuJlVzKm0aB",
      "include_colab_link": true
    },
    "kernelspec": {
      "name": "python3",
      "display_name": "Python 3"
    }
  },
  "cells": [
    {
      "cell_type": "markdown",
      "metadata": {
        "id": "view-in-github",
        "colab_type": "text"
      },
      "source": [
        "<a href=\"https://colab.research.google.com/github/saddam-satria/Regresi/blob/main/Template_Regresi.ipynb\" target=\"_parent\"><img src=\"https://colab.research.google.com/assets/colab-badge.svg\" alt=\"Open In Colab\"/></a>"
      ]
    },
    {
      "cell_type": "markdown",
      "metadata": {
        "id": "cMe3KGhAlpFm"
      },
      "source": [
        "### Template Regresi v1 by Saddam Satria Ardhi\n",
        "Digunakan untuk Regresi"
      ]
    },
    {
      "cell_type": "code",
      "metadata": {
        "id": "7DNWeI4eloRF"
      },
      "source": [
        ""
      ],
      "execution_count": null,
      "outputs": []
    },
    {
      "cell_type": "markdown",
      "metadata": {
        "id": "MngwGOXAl3Ai"
      },
      "source": [
        "Cara pakai\n",
        "*   Import Package hapus tanda # di bagian paling pertama (!pip)\n",
        "*   List item\n",
        "*   Pemilihin Algoritma di import package, tinggal hapus # \n",
        "*   Untuk Load data, pilih file train.csv/dataset.csv\n",
        "*   Untuk penggunaan penghapusan kolom, karena dia inplace, cukup run sekali \n",
        "maka kolom sudah terhapus, jika ingin menghapus kolom baru lagi jangan gunakan yang itu, melainkan copas yang baru, lalu isi nama kolom yang ingin dihapus\n",
        "*   Untuk plotting isi sendiri variabel x dan y nya yang ingin kalian plot, jika tidak digunakan, jangan di run, pasti error, nanti panik lagi\n",
        "*   tentukan variabel fitur dan target sendiri, fitur adalah x, target adalah y\n",
        "*   untuk splitting data, atur size nya saja, contoh size = 20, artinya 20% data test\n",
        "*   bagian Preprocessing, terdapat [] kosong silahkan isi menggunakan string '', pada bagian tersebut sesuaikan dengan kolom kalian, numerik = kolom yang angka, kategorik = kolom yang biasanya huruf\n",
        "* parameters abaikan saja, jika kalian tidak tahu kegunaannya, jika kalian tahu silahkan isi dengan baik dan benar (dictionary)\n",
        "* Binning isi kolom [''] dengan kolom kalian yang ingin di bining, binds adalah rentang binningnya[0-100] dan labels adalah label dari hasil rentang binningnya, ex: bins[0,12], labels['balita'] artinya 0-12 adalah balita\n",
        "* Untuk EDA silahkan gunakan section EDA, tidak ada template untuk EDA, karena EDA hasil analisa kalian   \n",
        "\n"
      ]
    },
    {
      "cell_type": "markdown",
      "metadata": {
        "id": "OCHdEgyqmSNC"
      },
      "source": [
        "### Import Package"
      ]
    },
    {
      "cell_type": "code",
      "metadata": {
        "id": "r6udIT4RmUA0"
      },
      "source": [
        "#!pip install jcopml <- hapus tanda # sebelum menjalankan\n",
        "\n",
        "import pandas as pd\n",
        "import numpy as np\n",
        "import seaborn as sns\n",
        "import matplotlib.pyplot as plt\n",
        "import os\n",
        "from google.colab import files\n",
        "import io\n",
        "\n",
        "#sklearn\n",
        "from sklearn.model_selection import train_test_split, GridSearchCV, RandomizedSearchCV\n",
        "from sklearn.preprocessing import StandardScaler,MinMaxScaler,RobustScaler,PowerTransformer,PolynomialFeatures,OneHotEncoder\n",
        "from sklearn.pipeline import Pipeline\n",
        "from sklearn.compose import ColumnTransformer\n",
        "from sklearn.impute import SimpleImputer\n",
        "\n",
        "#Algoritma\n",
        "\n",
        "#Linear\n",
        "from sklearn.linear_model import LinearRegression,LogisticRegression,ElasticNet\n",
        "#from sklearn.svm import SVR\n",
        "\n",
        "#3 base line\n",
        "#from sklearn.ensemble import RandomForestRegressor\n",
        "#from xgboost import XGBRegressor\n",
        "#from sklearn.tree import DecisionTreeRegressor\n",
        "\n",
        "\n",
        "#Regresi(hapus tanda #)\n",
        "from sklearn.metrics import r2_score, mean_squared_error,mean_absolute_error\n",
        "\n",
        "\n",
        "#jcopml\n",
        "from jcopml.plot import plot_missing_value\n",
        "from jcopml.feature_importance import mean_score_decrease\n",
        "from jcopml.tuning import random_search_params as rsp\n",
        "from jcopml.tuning import grid_search_params as gsp\n",
        "#Regresi (Hapus tanda #)\n",
        "from jcopml.plot import plot_correlation_matrix,plot_actual_vs_prediction,plot_residual\n",
        "\n"
      ],
      "execution_count": 4,
      "outputs": []
    },
    {
      "cell_type": "markdown",
      "metadata": {
        "id": "U4L7SKxfoR6-"
      },
      "source": [
        "### Load Data \n"
      ]
    },
    {
      "cell_type": "code",
      "metadata": {
        "id": "4J5C8mWan8O_"
      },
      "source": [
        "def load_data():\n",
        "    file = files.upload()\n",
        "    filename = file.keys()\n",
        "    for i in (filename):\n",
        "      global df\n",
        "      df = pd.read_csv(io.BytesIO(file[i]),index_col='PassengerId')\n",
        "    return df.head()\n",
        "\n",
        "load_data()"
      ],
      "execution_count": null,
      "outputs": []
    },
    {
      "cell_type": "markdown",
      "metadata": {
        "id": "mn1QJvXdoZ5o"
      },
      "source": [
        "### Missing Value"
      ]
    },
    {
      "cell_type": "code",
      "metadata": {
        "id": "Zu0vvh9roU_g"
      },
      "source": [
        "def load_data():\n",
        "    file = files.upload()\n",
        "    filename = file.keys()\n",
        "    for i in (filename):\n",
        "      global df\n",
        "      df = pd.read_csv(io.BytesIO(file[i]),index_col='PassengerId')\n",
        "    return df.head()\n",
        "\n",
        "load_data()"
      ],
      "execution_count": null,
      "outputs": []
    },
    {
      "cell_type": "markdown",
      "metadata": {
        "id": "OiQXL_DSog6D"
      },
      "source": [
        "### Drop Columns"
      ]
    },
    {
      "cell_type": "code",
      "metadata": {
        "id": "5HJcLNb4ojD1"
      },
      "source": [
        "def remove_columns(kolom):\n",
        "          df.drop(columns=kolom,inplace=True)\n",
        "          return df.head()\n",
        "remove_columns(kolom=[''])"
      ],
      "execution_count": null,
      "outputs": []
    },
    {
      "cell_type": "markdown",
      "metadata": {
        "id": "1AFa__gPomRj"
      },
      "source": [
        "### Plotting"
      ]
    },
    {
      "cell_type": "code",
      "metadata": {
        "id": "6Lem1D_VopUd"
      },
      "source": [
        "def plotting(x,y):\n",
        "    fig, axes = plt.subplots(2, 3, sharex=False, figsize=(20,14))\n",
        "    fig.suptitle('2 baris 2 kolom')\n",
        "\n",
        "    sns.scatterplot(ax=axes[0,0],data=df,x=x,y=y)\n",
        "    sns.histplot(ax=axes[0,1], data=df,x=x,y=y)\n",
        "    sns.countplot(ax=axes[0,2], data=df,x=x)\n",
        "    sns.scatterplot(ax=axes[1,0],data=df,x=x,y=y)\n",
        "    sns.countplot(ax=axes[1,1], data=df,x=x)\n",
        "    sns.countplot(ax=axes[1,2], data=df,x=x)\n",
        "\n",
        "plotting('x','y')"
      ],
      "execution_count": null,
      "outputs": []
    },
    {
      "cell_type": "markdown",
      "metadata": {
        "id": "fIkHUx5mp8gc"
      },
      "source": [
        "###EDA"
      ]
    },
    {
      "cell_type": "code",
      "metadata": {
        "id": "-vSNiGlCqaSF"
      },
      "source": [
        "plot_correlation_matrix(df,yTr)"
      ],
      "execution_count": null,
      "outputs": []
    },
    {
      "cell_type": "code",
      "metadata": {
        "id": "D6MT8q-xqbWT"
      },
      "source": [
        "xTr.head()"
      ],
      "execution_count": null,
      "outputs": []
    },
    {
      "cell_type": "markdown",
      "metadata": {
        "id": "ZYTySRsBoryM"
      },
      "source": [
        "### x dan y"
      ]
    },
    {
      "cell_type": "code",
      "metadata": {
        "id": "_oKviRbDouzo"
      },
      "source": [
        "x = df.drop(columns=[''] )\n",
        "y = df['']"
      ],
      "execution_count": null,
      "outputs": []
    },
    {
      "cell_type": "markdown",
      "metadata": {
        "id": "t1-lOrUdozoA"
      },
      "source": [
        "### Splitting Data\n"
      ]
    },
    {
      "cell_type": "code",
      "metadata": {
        "id": "E0d1Dyk4o193"
      },
      "source": [
        "def split_data(x,y,size):\n",
        "  global xTr,xTs,yTr,yTs\n",
        "  xTr,xTs,yTr,yTs = train_test_split(x,y, test_size=size)\n",
        "  return xTr.shape,xTs.shape,yTr.shape,yTs.shape\n",
        "\n",
        "split_data(x,y,size=30)"
      ],
      "execution_count": null,
      "outputs": []
    },
    {
      "cell_type": "markdown",
      "metadata": {
        "id": "DZfMxvVAo4SI"
      },
      "source": [
        "### Preprocessing"
      ]
    },
    {
      "cell_type": "code",
      "metadata": {
        "id": "3U--2pRgo8Ox"
      },
      "source": [
        "xTr.columns"
      ],
      "execution_count": null,
      "outputs": []
    },
    {
      "cell_type": "code",
      "metadata": {
        "id": "XJ7BTHVWo_FB"
      },
      "source": [
        "num_pip = Pipeline([\n",
        "                    (\"Impute\", SimpleImputer(strategy=\"mean\")),\n",
        "                    (\"Scale\", StandardScaler())\n",
        "\n",
        "                  ])\n",
        "\n",
        "cat_pip = Pipeline([\n",
        "                    (\"Impute\", SimpleImputer(strategy='most_frequent')),\n",
        "                    (\"OneHotEncode\", OneHotEncoder())\n",
        "\n",
        "                  ])\n",
        "\n",
        "preprocess = ColumnTransformer([\n",
        "                                (\"numerik\",num_pip,['']),\n",
        "                                (\"kategorik\",cat_pip,[''])\n",
        "\n",
        "                              ])\n",
        "\n",
        "pipeline = Pipeline([\n",
        "                     (\"prep\", preprocess),\n",
        "                     (\"model\", LinearRegression())\n",
        "\n",
        "                    ])"
      ],
      "execution_count": null,
      "outputs": []
    },
    {
      "cell_type": "markdown",
      "metadata": {
        "id": "K_p4L4fIpIzV"
      },
      "source": [
        "### Modeling\n"
      ]
    },
    {
      "cell_type": "code",
      "metadata": {
        "id": "I99z0JgrpJY9"
      },
      "source": [
        "def modeling(xTr,yTr,xTs,yTs,model):\n",
        "  model.fit(xTr,yTr)\n",
        "  print(model.best_params_)\n",
        "  column = [[\"Validation Score\", model.best_score_],[\"Train Score\",model.score(xTr,yTr)],[\"Test Score\",model.score(xTs,yTs)]]\n",
        "  df = pd.DataFrame(column,columns=['Tipe','Hasil'])\n",
        "  if (model.score(xTr,yTr)) >= 0.95:\n",
        "    print(\"Overfitting\")\n",
        "  elif (model.score(xTr,yTr)) <= 0.65:\n",
        "    print(\"Underfitting\")\n",
        "  return df\n",
        "  "
      ],
      "execution_count": null,
      "outputs": []
    },
    {
      "cell_type": "code",
      "metadata": {
        "id": "I7Q0qhoHpOIp"
      },
      "source": [
        "pipeline.get_params()"
      ],
      "execution_count": null,
      "outputs": []
    },
    {
      "cell_type": "code",
      "metadata": {
        "id": "9t1GlOb8pPK4"
      },
      "source": [
        "parameters = {\n",
        "    'model__intercept':[True,False]\n",
        "    }"
      ],
      "execution_count": null,
      "outputs": []
    },
    {
      "cell_type": "code",
      "metadata": {
        "id": "R7n_1a4HpPHY"
      },
      "source": [
        "model = GridSearchCV(pipeline,gsp.linreg_params,cv=3,n_iter=50,n_jobs=-1,verbose=1)\n",
        "modeling(xTr,yTr,xTs,yTs,model)\n",
        "yPred = model.predict(xTs)"
      ],
      "execution_count": null,
      "outputs": []
    },
    {
      "cell_type": "markdown",
      "metadata": {
        "id": "01Zlq9vHpLkg"
      },
      "source": [
        "### Evaluasi"
      ]
    },
    {
      "cell_type": "code",
      "metadata": {
        "id": "1oA1beKgpPEc"
      },
      "source": [
        "def plot_regresi(xTr,yTr,xTs,yTs,model):\n",
        "    plot_actual_vs_prediction(xTr,yTr,xTs,yTs,model)\n",
        "    plot_residual(xTr,yTr,xTs,yTs,model)\n",
        "plot_regresi(xTr,yTr,xTs,yTs,model)"
      ],
      "execution_count": null,
      "outputs": []
    },
    {
      "cell_type": "code",
      "metadata": {
        "id": "VsJCNKfBpPA1"
      },
      "source": [
        "r2_score(yTs,yPred), mean_squared_error(yTs,yPred),mean_absolute_error(yTs,yPred)"
      ],
      "execution_count": null,
      "outputs": []
    },
    {
      "cell_type": "markdown",
      "metadata": {
        "id": "2fq3xQ4Np4fg"
      },
      "source": [
        "### Binning"
      ]
    },
    {
      "cell_type": "code",
      "metadata": {
        "id": "sIz8qlNSp5Na"
      },
      "source": [
        "xTr = pd.cut(xTr[''],bins=[],labels=[])"
      ],
      "execution_count": null,
      "outputs": []
    },
    {
      "cell_type": "code",
      "metadata": {
        "id": "5eScEsQmrDaN"
      },
      "source": [
        ""
      ],
      "execution_count": null,
      "outputs": []
    },
    {
      "cell_type": "markdown",
      "metadata": {
        "id": "GRu80ePnrEKg"
      },
      "source": [
        "### Pemilihan Fitur"
      ]
    },
    {
      "cell_type": "code",
      "metadata": {
        "id": "VDPhuUJzrHGo"
      },
      "source": [
        "df_imp = mean_score_decrease(xTr,yTr,model,plot=True,topk=10)"
      ],
      "execution_count": null,
      "outputs": []
    },
    {
      "cell_type": "code",
      "metadata": {
        "id": "HQrnj23BrOhG"
      },
      "source": [
        ""
      ],
      "execution_count": null,
      "outputs": []
    },
    {
      "cell_type": "markdown",
      "metadata": {
        "id": "rxuKdcHUrH8g"
      },
      "source": [
        "###EDA"
      ]
    },
    {
      "cell_type": "code",
      "metadata": {
        "id": "67-zqj6hrIoq"
      },
      "source": [
        "xTr.head()"
      ],
      "execution_count": null,
      "outputs": []
    }
  ]
}